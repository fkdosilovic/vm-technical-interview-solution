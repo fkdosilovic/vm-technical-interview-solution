{
 "cells": [
  {
   "cell_type": "markdown",
   "metadata": {},
   "source": [
    "# Examples usage of KNN classifier on a MNIST data"
   ]
  },
  {
   "cell_type": "code",
   "execution_count": 1,
   "metadata": {},
   "outputs": [],
   "source": [
    "import numpy as np\n",
    "# from matplotlib import pyplot as plt\n",
    "from tqdm import tqdm"
   ]
  },
  {
   "cell_type": "code",
   "execution_count": 2,
   "metadata": {},
   "outputs": [],
   "source": [
    "from miniml import load_mnist\n",
    "from miniml import NaiveNearestNeighbors\n",
    "from miniml import KNearestNeighborClassifier"
   ]
  },
  {
   "cell_type": "code",
   "execution_count": 3,
   "metadata": {},
   "outputs": [],
   "source": [
    "mnist_path: str = \"/home/filip/Data/mnist\"\n",
    "train_images, train_labels = load_mnist(\"/home/filip/Data/mnist\", \"train\")\n",
    "test_images, test_labels = load_mnist(\"/home/filip/Data/mnist\", \"test\")\n",
    "\n",
    "train_images = train_images.astype(np.float32)\n",
    "test_images = test_images.astype(np.float32)"
   ]
  },
  {
   "cell_type": "code",
   "execution_count": 4,
   "metadata": {},
   "outputs": [],
   "source": [
    "from numpy.random import RandomState\n",
    "rnd = RandomState(32)"
   ]
  },
  {
   "cell_type": "code",
   "execution_count": 5,
   "metadata": {},
   "outputs": [],
   "source": [
    "def sample(X, y, n):\n",
    "    indices = rnd.choice(X.shape[0], n)\n",
    "    return X[indices], y[indices]"
   ]
  },
  {
   "cell_type": "code",
   "execution_count": 6,
   "metadata": {},
   "outputs": [],
   "source": [
    "train_sample, y_train_sample = sample(train_images, train_labels, 5000)\n",
    "\n",
    "train_sample /= 255\n",
    "test_images /= 255"
   ]
  },
  {
   "cell_type": "code",
   "execution_count": 7,
   "metadata": {},
   "outputs": [],
   "source": [
    "nearest_neighbors = NaiveNearestNeighbors(k=10)\n",
    "knn = KNearestNeighborClassifier(nearest_neighbors)\n",
    "knn.fit(train_sample, y_train_sample)"
   ]
  },
  {
   "cell_type": "code",
   "execution_count": 8,
   "metadata": {},
   "outputs": [
    {
     "name": "stderr",
     "output_type": "stream",
     "text": [
      "100%|██████████| 39/39 [01:22<00:00,  2.12s/it]\n"
     ]
    }
   ],
   "source": [
    "# Predict the labels for the test set (in batches)\n",
    "\n",
    "batch_size = 256\n",
    "n_batches = test_images.shape[0] // batch_size\n",
    "y_pred = np.empty(test_images.shape[0])\n",
    "for i in tqdm(range(n_batches)):\n",
    "    start = i * batch_size\n",
    "    end = start + batch_size\n",
    "    y_pred[start:end] = knn.predict(test_images[start:end])"
   ]
  },
  {
   "cell_type": "code",
   "execution_count": 9,
   "metadata": {},
   "outputs": [
    {
     "name": "stdout",
     "output_type": "stream",
     "text": [
      "0.9288\n"
     ]
    }
   ],
   "source": [
    "# Compute accuracy\n",
    "print(np.mean(y_pred == test_labels))"
   ]
  }
 ],
 "metadata": {
  "kernelspec": {
   "display_name": "ml",
   "language": "python",
   "name": "python3"
  },
  "language_info": {
   "codemirror_mode": {
    "name": "ipython",
    "version": 3
   },
   "file_extension": ".py",
   "mimetype": "text/x-python",
   "name": "python",
   "nbconvert_exporter": "python",
   "pygments_lexer": "ipython3",
   "version": "3.10.9"
  },
  "orig_nbformat": 4
 },
 "nbformat": 4,
 "nbformat_minor": 2
}
